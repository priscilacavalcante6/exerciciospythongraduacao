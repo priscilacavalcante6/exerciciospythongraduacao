{
 "cells": [
  {
   "cell_type": "code",
   "execution_count": 1,
   "metadata": {},
   "outputs": [
    {
     "name": "stdout",
     "output_type": "stream",
     "text": [
      "O maior número é:20\n"
     ]
    }
   ],
   "source": [
    "#ESTUDANDO ESTRUTURAS DE DECISÃO E REPETIÇÃO EM PYTHON\n",
    "#ESTRATÉGIA 01 IF ELSE\n",
    "a=10\n",
    "b=20\n",
    "\n",
    "if (a>b):\n",
    "    maior = a\n",
    "\n",
    "else:\n",
    "    maior = b\n",
    "print (f'O maior número é:{maior}')\n"
   ]
  },
  {
   "cell_type": "code",
   "execution_count": 2,
   "metadata": {},
   "outputs": [
    {
     "name": "stdout",
     "output_type": "stream",
     "text": [
      "O maior número é: 20\n"
     ]
    }
   ],
   "source": [
    "#ESTRATÉGIA 02 - ESTABELECE O COMPORTAMENTO INICIAL DAS VARIAVEIS\n",
    "\n",
    "a=10\n",
    "b=20\n",
    "maior = a\n",
    "\n",
    "if(b>maior):\n",
    "    maior = b\n",
    "    \n",
    "print(f'O maior número é: {maior}')\n"
   ]
  },
  {
   "cell_type": "code",
   "execution_count": 4,
   "metadata": {},
   "outputs": [
    {
     "name": "stdout",
     "output_type": "stream",
     "text": [
      "O número é par\n"
     ]
    }
   ],
   "source": [
    "#EXERCÍCIO 01 FUNÇÃO MOD = X MOD 2\n",
    "\n",
    "numero = 46\n",
    "\n",
    "if (numero%2==0):\n",
    "    situacao = \"O número é par\"\n",
    "    \n",
    "else:\n",
    "    situacao = \"O número é impar\"\n",
    "    \n",
    "print(situacao)"
   ]
  },
  {
   "cell_type": "code",
   "execution_count": 5,
   "metadata": {},
   "outputs": [
    {
     "name": "stdout",
     "output_type": "stream",
     "text": [
      "O estudante esta: aprovado\n"
     ]
    }
   ],
   "source": [
    "#EXERCÍCIO 02 ELIF = SE NÃO\n",
    "\n",
    "media = 8.5\n",
    "\n",
    "if(media>=7.0):\n",
    "    situacao = \"aprovado\"\n",
    "    \n",
    "elif(media>5.0):\n",
    "    situacao = \"em recuperação\"\n",
    "    \n",
    "else:\n",
    "    situacao = \"reprovado\"\n",
    "    \n",
    "print(f'O estudante esta: {situacao}')"
   ]
  },
  {
   "attachments": {},
   "cell_type": "markdown",
   "metadata": {},
   "source": [
    "Exercício 03 - implementar solução em python qye resolva a seguinte questão:\n",
    "CALCULAR O VALOR DE UMA COMPRA, SENDO QUE O PREÇO É R$10.00.\n",
    "SE FOR UMA COMPRA DE ATÉ 10 UNIDADES, NÃO É DESCONTOS.\n",
    "PARA COMPRAS ENTRE 11 E 20 UNIDADES, É DADO DESCONTO DE 10%.\n",
    "ACIMA DE 20 UNIDADES, É DADO DESCONTO DE 20%.\n",
    "LETRAS MAIUSCULAS COMO REGRAS DE NEGÓCIO.\n",
    "EVAL TRANSFORMA A STING EM NÚMERO"
   ]
  },
  {
   "cell_type": "code",
   "execution_count": null,
   "metadata": {},
   "outputs": [],
   "source": [
    "preco_unitario = 10\n",
    "DESCONTO10 = 0.1\n",
    "DESCONTO20 = 0.2\n",
    "quantidade = eval(input(\"Digite a quantidade que vai comprar:\"))\n",
    "\n",
    "if (quantidade <= 10):\n",
    "    valor_final = preco_unitario*quantidade\n",
    "    \n",
    "elif(quantidade <= 20):\n",
    "    valor_final = preco_unitario*quantidade*(1-DESCONTO10)\n",
    "    \n",
    "else:\n",
    "    valor_final = preco_unitario*quantidade*(1-DESCONTO20)\n",
    "    \n",
    "print (f'O valor final da compra é: {valor_final}')\n",
    "\n"
   ]
  },
  {
   "attachments": {},
   "cell_type": "markdown",
   "metadata": {},
   "source": [
    "EXECÍCIO 04 - IMPLEMENTAR UMA SOLUÇÃO EM PYTHON QUE SOME TODOS OS NÚMERO PARES DE UMA LISTA."
   ]
  },
  {
   "cell_type": "code",
   "execution_count": 2,
   "metadata": {},
   "outputs": [
    {
     "name": "stdout",
     "output_type": "stream",
     "text": [
      "O somatório dos elementos pares da lista é:18\n"
     ]
    }
   ],
   "source": [
    "#ESTRATÉGIA 01\n",
    "\n",
    "lista = [10, 2, 5, 7, 6, 3]\n",
    "n = len(lista)\n",
    "soma = 0\n",
    "for i in range(n):\n",
    "    if(lista[i]%2==0):\n",
    "        soma=soma+lista[i]\n",
    "        \n",
    "print (f'O somatório dos elementos pares da lista é:{soma}')"
   ]
  },
  {
   "cell_type": "code",
   "execution_count": 8,
   "metadata": {},
   "outputs": [
    {
     "name": "stdout",
     "output_type": "stream",
     "text": [
      "O somatório dos elementos pares da lista é:18\n"
     ]
    }
   ],
   "source": [
    "#NOTAÇÃO MUITO IMPORTANTE, MUITO USADA EM PROGRAMAÇÃO FUNCIONAL - GRANDE TENDÊNCIA A APLICAÇÃO MAIS HUMANA\n",
    "\n",
    "lista = [10, 2, 5, 7, 6, 3]\n",
    "soma = 0\n",
    "for num in lista:\n",
    "    if(num%2==0):\n",
    "        soma=soma+num\n",
    "print (f'O somatório dos elementos pares da lista é:{soma}')"
   ]
  },
  {
   "cell_type": "code",
   "execution_count": 9,
   "metadata": {},
   "outputs": [
    {
     "name": "stdout",
     "output_type": "stream",
     "text": [
      "2\n",
      "5\n",
      "8\n"
     ]
    }
   ],
   "source": [
    "for item in range (2, 9, 3):\n",
    "    print(item)"
   ]
  },
  {
   "cell_type": "code",
   "execution_count": 10,
   "metadata": {},
   "outputs": [
    {
     "name": "stdout",
     "output_type": "stream",
     "text": [
      "p\n",
      "r\n",
      "i\n",
      "s\n",
      "c\n",
      "i\n",
      "l\n",
      "a\n"
     ]
    }
   ],
   "source": [
    "nome = input(\"entre com seu nome: \\n\")\n",
    "for letra in nome:\n",
    "    print(letra)"
   ]
  },
  {
   "cell_type": "code",
   "execution_count": 11,
   "metadata": {},
   "outputs": [
    {
     "name": "stdout",
     "output_type": "stream",
     "text": [
      "Laura\n",
      "Lis\n",
      "Guilherme\n",
      "Enzo\n",
      "Arthur\n"
     ]
    }
   ],
   "source": [
    "nomes = ['Laura', 'Lis', 'Guilherme', 'Enzo', 'Arthur']\n",
    "for nome in nomes:\n",
    "    print(nome)"
   ]
  },
  {
   "cell_type": "code",
   "execution_count": 12,
   "metadata": {},
   "outputs": [
    {
     "name": "stdout",
     "output_type": "stream",
     "text": [
      "Voce digitou sair e agora esta fora do laço\n"
     ]
    }
   ],
   "source": [
    "palavra  = input('Entre com uma palavra: \\n')\n",
    "while palavra != 'sair':\n",
    "    palavra = input('Digite sair para encerrar o laço: \\n')\n",
    "print('Voce digitou sair e agora esta fora do laço')"
   ]
  },
  {
   "attachments": {},
   "cell_type": "markdown",
   "metadata": {},
   "source": [
    "WHILE TRUE: BLOCO QUE SERA REPETIDO INDEFINIDAMENTE\n",
    "INSTRUÇÕES BREAK, CONTINUE E PASS:\n",
    "BREAK: FUNCIONA DA MESMA MANEIRA EM C E EM PYTHON, ELA INTERROMPE AS REPETIÇ~IES DOS LAÇOS FOR E WHILE. QUANDO A EXECUÇÃO DP PROGRAMA CHEGA A UMA INSTRUÇÃO BREAK, AREPETIÇÃO É ENCERRADA E O FLUXO DO PROGRAMA SEGUE A PARTIR DA PRIMEIRA INSTRUÇÃO SEGUINTE AO LAÇO."
   ]
  },
  {
   "cell_type": "code",
   "execution_count": 13,
   "metadata": {},
   "outputs": [
    {
     "name": "stdout",
     "output_type": "stream",
     "text": [
      "Você digitou sair e agora está fora do laço\n"
     ]
    }
   ],
   "source": [
    "while True:\n",
    "    palavra = input('Entre com uma palavra: \\n')\n",
    "    if palavra == 'sair':\n",
    "        break\n",
    "print('Você digitou sair e agora está fora do laço')\n"
   ]
  },
  {
   "cell_type": "code",
   "execution_count": 15,
   "metadata": {},
   "outputs": [
    {
     "name": "stdout",
     "output_type": "stream",
     "text": [
      "Você esta no primeiro laço.\n",
      "Você esta no seungo laço.\n",
      "Você esta no seungo laço.\n",
      "Voce saiu do segundo laço.\n",
      "Você saiu do primeiro laço\n",
      "Você esta no primeiro laço.\n"
     ]
    }
   ],
   "source": [
    "while  True:\n",
    "    print('Você esta no primeiro laço.')\n",
    "    opcao1 = input('Deseja sair dele? Digite SIM para isso. \\n')\n",
    "    if opcao1 == 'SIM':\n",
    "        break #este break é do primeiro laço\n",
    "    else:\n",
    "        while True:\n",
    "            print('Você esta no seungo laço.')\n",
    "            opcao2 = input('Deseja sair dele? Digite SIM para isso. \\n')\n",
    "            if opcao2 == 'SIM':\n",
    "                break #este break é do segundo laço\n",
    "        print('Voce saiu do segundo laço.')\n",
    "    print('Você saiu do primeiro laço')\n",
    "    "
   ]
  },
  {
   "cell_type": "code",
   "execution_count": 19,
   "metadata": {},
   "outputs": [
    {
     "name": "stdout",
     "output_type": "stream",
     "text": [
      "1\n",
      "Laço encerrado\n",
      "2\n",
      "Laço encerrado\n",
      "3\n",
      "Laço encerrado\n",
      "4\n",
      "Laço encerrado\n",
      "5\n",
      "Laço encerrado\n",
      "6\n",
      "Laço encerrado\n",
      "7\n",
      "Laço encerrado\n",
      "8\n",
      "Laço encerrado\n",
      "9\n",
      "Laço encerrado\n",
      "10\n",
      "Laço encerrado\n"
     ]
    }
   ],
   "source": [
    "for num in range(1, 11):\n",
    "    if num==5:\n",
    "        continue\n",
    "    else:\n",
    "        print(num)\n",
    "    print('Laço encerrado')"
   ]
  },
  {
   "cell_type": "code",
   "execution_count": 21,
   "metadata": {},
   "outputs": [
    {
     "name": "stdout",
     "output_type": "stream",
     "text": [
      "1\n",
      "Laço encerrado\n",
      "2\n",
      "Laço encerrado\n",
      "3\n",
      "Laço encerrado\n",
      "4\n",
      "Laço encerrado\n"
     ]
    }
   ],
   "source": [
    "for num in range(1, 11):\n",
    "    if num ==5:\n",
    "        break\n",
    "    else:\n",
    "        print(num)\n",
    "    print('Laço encerrado')\n",
    "    "
   ]
  },
  {
   "attachments": {},
   "cell_type": "markdown",
   "metadata": {},
   "source": [
    "PARA RESSALTAR A DIFERENÇA ENTRE AS INSTRUÇÕES BREAK E CONTINUE."
   ]
  },
  {
   "cell_type": "code",
   "execution_count": 22,
   "metadata": {},
   "outputs": [
    {
     "name": "stdout",
     "output_type": "stream",
     "text": [
      "1\n",
      "Laço encerrado\n",
      "Laço encerrado\n",
      "3\n",
      "Laço encerrado\n",
      "Laço encerrado\n",
      "5\n",
      "Laço encerrado\n",
      "Laço encerrado\n",
      "7\n",
      "Laço encerrado\n",
      "Laço encerrado\n",
      "9\n",
      "Laço encerrado\n",
      "Laço encerrado\n"
     ]
    }
   ],
   "source": [
    "for num in range(1, 11):\n",
    "    if num %2==0:\n",
    "        pass\n",
    "    else:\n",
    "        print(num)\n",
    "    print('Laço encerrado')\n",
    "    "
   ]
  },
  {
   "attachments": {},
   "cell_type": "markdown",
   "metadata": {},
   "source": [
    "CLARAMENTE, SERIA POSSÍVEL REESCREVER A CONDIÇÃO DO IF-ELSE PARA QUE PUDÉSSEMOS TRANSFORMÁ-LO EM UM IF SIMPLES, SEM ELSE. ENTRETANTO, O OBJETIVO AQUI É MOSTRAR O USO DA INSTRUÇÃO PASS."
   ]
  },
  {
   "cell_type": "code",
   "execution_count": 23,
   "metadata": {},
   "outputs": [
    {
     "name": "stdout",
     "output_type": "stream",
     "text": [
      "30\n"
     ]
    }
   ],
   "source": [
    "s = 0\n",
    "for i in range(5):\n",
    "    s += 3*i\n",
    "print(s)"
   ]
  },
  {
   "cell_type": "code",
   "execution_count": 24,
   "metadata": {},
   "outputs": [
    {
     "name": "stdout",
     "output_type": "stream",
     "text": [
      "3\n",
      "6\n"
     ]
    }
   ],
   "source": [
    "s=0\n",
    "a=1\n",
    "while s<5:\n",
    "    s =3*a\n",
    "    a += 1\n",
    "    print(s)"
   ]
  },
  {
   "attachments": {},
   "cell_type": "markdown",
   "metadata": {},
   "source": [
    "CONCEITOS E SUBPROGRAMAS E A SUA UTILIZAÇÃO EM PYTHON"
   ]
  },
  {
   "cell_type": "code",
   "execution_count": 30,
   "metadata": {},
   "outputs": [],
   "source": [
    "#FUNÇÃO\n",
    "def encontrar_minimo(lista):\n",
    "    minimo = lista[0]\n",
    "    for elem in lista:\n",
    "        if(elem < minimo):\n",
    "            minimo = elem\n",
    "        return minimo\n",
    "    \n",
    "    lista_teste = [2, 10, 3, 1, 4, 5]\n",
    "    menor = encontrar_minimo(lista_teste)\n",
    "    print(\"O menor elemento da lista é:[{}]\".format(menor))"
   ]
  },
  {
   "cell_type": "code",
   "execution_count": 31,
   "metadata": {},
   "outputs": [],
   "source": [
    "def ehPar(n):\n",
    "    r = (n%2==0)\n",
    "    return r"
   ]
  },
  {
   "cell_type": "code",
   "execution_count": 32,
   "metadata": {},
   "outputs": [],
   "source": [
    "def soma_par(list):\n",
    "    soma=0 #variavel acumuladora\n",
    "    for num in list:\n",
    "        if(ehPar(num)):\n",
    "            soma=soma+num\n",
    "            \n",
    "    return soma"
   ]
  },
  {
   "cell_type": "code",
   "execution_count": 34,
   "metadata": {},
   "outputs": [
    {
     "name": "stdout",
     "output_type": "stream",
     "text": [
      "O somatório dos elementos pares da lista é: 18\n"
     ]
    }
   ],
   "source": [
    "lista = [10, 2, 5, 7, 6, 3]\n",
    "soma=soma_par(lista)\n",
    "print(f'O somatório dos elementos pares da lista é: {soma}')"
   ]
  },
  {
   "attachments": {},
   "cell_type": "markdown",
   "metadata": {},
   "source": [
    "EXERCÍCIO - IMPLEMENTAR UMA SOLUÇÃO QUE CALCULE O FATORIAL DE UM NUMERO"
   ]
  },
  {
   "cell_type": "code",
   "execution_count": 35,
   "metadata": {},
   "outputs": [],
   "source": [
    "#ESTRATÉGIA 01\n",
    "\n",
    "def fatorial_interativo(n):\n",
    "    f=1\n",
    "    for i in range(1,n+1):\n",
    "        f=f*1\n",
    "    return f"
   ]
  },
  {
   "cell_type": "code",
   "execution_count": 36,
   "metadata": {},
   "outputs": [],
   "source": [
    "#ESTRATÉGIA 02\n",
    "\n",
    "def fatorial_recursivo(n):\n",
    "    if((n==0)or(n==1)):\n",
    "        return 1\n",
    "    return n*fatorial_recursivo(n-1)"
   ]
  },
  {
   "cell_type": "code",
   "execution_count": 37,
   "metadata": {},
   "outputs": [
    {
     "name": "stdout",
     "output_type": "stream",
     "text": [
      "O fatorial de 5 é: 1\n",
      "O fatorial de 5 é: 120\n"
     ]
    }
   ],
   "source": [
    "numero = 5\n",
    "print(f'O fatorial de {numero} é: {fatorial_interativo(numero)}')\n",
    "print(f'O fatorial de {numero} é: {fatorial_recursivo(numero)}')\n"
   ]
  },
  {
   "cell_type": "code",
   "execution_count": 39,
   "metadata": {},
   "outputs": [],
   "source": [
    "#EXERCÍCIO 03\n",
    "\n",
    "def eh_primo(n):\n",
    "    if(n<2):\n",
    "        return False\n",
    "    i=n/2\n",
    "    while(i>1):\n",
    "        if(n%i==0):\n",
    "            return False\n",
    "        i=i-1\n",
    "        return True"
   ]
  },
  {
   "cell_type": "code",
   "execution_count": 40,
   "metadata": {},
   "outputs": [],
   "source": [
    "def imprimir_resultado(numero, resultado):\n",
    "    mensagem = f'O numero {numero} Não é primo'\n",
    "    if (resultado):\n",
    "        mensagem = f'O numero {numero} é primo'\n",
    "    return mensagem"
   ]
  },
  {
   "cell_type": "code",
   "execution_count": 42,
   "metadata": {},
   "outputs": [
    {
     "name": "stdout",
     "output_type": "stream",
     "text": [
      "O numero 7 Não é primo\n"
     ]
    }
   ],
   "source": [
    "numero = 7\n",
    "resultado = eh_primo(numero)\n",
    "msg = imprimir_resultado(numero, resultado)\n",
    "print(msg)"
   ]
  },
  {
   "cell_type": "code",
   "execution_count": 43,
   "metadata": {},
   "outputs": [
    {
     "name": "stdout",
     "output_type": "stream",
     "text": [
      "11\n"
     ]
    }
   ],
   "source": [
    "escolha = input(\"Escolha uma opção de função: 1 ou 2\\n\")\n",
    "if escolha ==\"1\":\n",
    "    def func1(x):\n",
    "        return x + 1\n",
    "    s = func1(10)\n",
    "    \n",
    "else:\n",
    "    def func2(x):\n",
    "        return x + 2\n",
    "    s = func2(10)\n",
    "    \n",
    "print(s)"
   ]
  },
  {
   "cell_type": "code",
   "execution_count": 45,
   "metadata": {},
   "outputs": [],
   "source": [
    "def taximetro(distancia, multiplicador=1):\n",
    "    largada = 3\n",
    "    km_rodado = 2\n",
    "    valor = (largada + distancia * km_rodado)* multiplicador\n",
    "    print(valor)"
   ]
  },
  {
   "cell_type": "code",
   "execution_count": 46,
   "metadata": {},
   "outputs": [
    {
     "name": "stdout",
     "output_type": "stream",
     "text": [
      "Função func1 - x = 10\n",
      "Função fun2 - x = 20\n",
      "Programa principal - x = 0\n"
     ]
    }
   ],
   "source": [
    "def func1(x):\n",
    "    x = 10\n",
    "    print(f'Função func1 - x = {x}')\n",
    "    \n",
    "def func2(x):\n",
    "    x = 20\n",
    "    print(f'Função fun2 - x = {x}')\n",
    "    \n",
    "x= 0\n",
    "func1(x)\n",
    "func2(x)\n",
    "print(f'Programa principal - x = {x}')\n"
   ]
  },
  {
   "attachments": {},
   "cell_type": "markdown",
   "metadata": {},
   "source": [
    "RECURSIVIDADE - UMA FUNÇÃO RECURSIVA É AQUELA QUE CHAMA A SI MESMA"
   ]
  },
  {
   "cell_type": "code",
   "execution_count": 50,
   "metadata": {},
   "outputs": [
    {
     "name": "stdout",
     "output_type": "stream",
     "text": [
      "0\n"
     ]
    }
   ],
   "source": [
    "def regressiva(x):\n",
    "    print(x)\n",
    "    regressiva(x - 1)\n",
    "print(x)"
   ]
  },
  {
   "cell_type": "code",
   "execution_count": 48,
   "metadata": {},
   "outputs": [],
   "source": [
    "def regressiva(x):\n",
    "    if x <= 0:\n",
    "        print(\"Acabou\")\n",
    "        \n",
    "    else:\n",
    "        print(x)\n",
    "        regressiva(x-1)"
   ]
  },
  {
   "attachments": {},
   "cell_type": "markdown",
   "metadata": {},
   "source": [
    "A FUNÇÃO MATEMÁTICA RECURSIVA FATORIAL DE UM INTEIRO NÃO NEGATIVO N É CALCULADA POR:\n",
    "N!=|1, SE N=0 OU N=1 N.(N-1).(N-2).....3.2.1, SE N>_2\n",
    "\n",
    "ALÉM DISSO, ELA PODE SER DEFINIDA RECURSIVAMENTE POR:\n",
    "N!=|1, SEN=0 OU N=1 N.[(N-1)!], SE N>_2\n"
   ]
  },
  {
   "cell_type": "code",
   "execution_count": 51,
   "metadata": {},
   "outputs": [],
   "source": [
    "def fatorial(n):\n",
    "    if n==0 or n==1:\n",
    "        return 1\n",
    "    else:\n",
    "        return n*fatorial(n-1)"
   ]
  },
  {
   "cell_type": "code",
   "execution_count": 52,
   "metadata": {},
   "outputs": [],
   "source": [
    "def fatorial(n):\n",
    "    fat = 1\n",
    "    if n == 0 or n == 1:\n",
    "        return fat\n",
    "    else:\n",
    "        for x in range (2, n+ 1):\n",
    "            fat = fat*x\n",
    "        return fat"
   ]
  },
  {
   "attachments": {},
   "cell_type": "markdown",
   "metadata": {},
   "source": [
    "APLICANDO AS BIBLIOTECAS PYTHON PARA RESOLUÇÃO DE PROBLEMAS REAIS\n",
    "\n",
    "CRIAR UM HÁBITO DE PESQUISAR\n",
    "\n"
   ]
  },
  {
   "cell_type": "code",
   "execution_count": 53,
   "metadata": {},
   "outputs": [],
   "source": [
    "def entrada_dados():\n",
    "    coeficiente = quantidade = eval(input(\"Digite o valor do coeficiente:\"))\n",
    "    return coeficiente"
   ]
  },
  {
   "cell_type": "code",
   "execution_count": 54,
   "metadata": {},
   "outputs": [],
   "source": [
    "def calc_delta(a,b,c):\n",
    "    delta=b*b-4*a*c\n",
    "    return delta"
   ]
  },
  {
   "cell_type": "code",
   "execution_count": 55,
   "metadata": {},
   "outputs": [
    {
     "name": "stderr",
     "output_type": "stream",
     "text": [
      "<>:8: SyntaxWarning: 'int' object is not callable; perhaps you missed a comma?\n",
      "<>:8: SyntaxWarning: 'int' object is not callable; perhaps you missed a comma?\n"
     ]
    },
    {
     "ename": "ModuleNotFoundError",
     "evalue": "No module named 'numpy'",
     "output_type": "error",
     "traceback": [
      "\u001b[1;31m---------------------------------------------------------------------------\u001b[0m",
      "\u001b[1;31mModuleNotFoundError\u001b[0m                       Traceback (most recent call last)",
      "Cell \u001b[1;32mIn[55], line 1\u001b[0m\n\u001b[1;32m----> 1\u001b[0m \u001b[39mimport\u001b[39;00m \u001b[39mnumpy\u001b[39;00m \u001b[39mas\u001b[39;00m \u001b[39mnp\u001b[39;00m\n\u001b[0;32m      2\u001b[0m \u001b[39mdef\u001b[39;00m \u001b[39mcalcular_raizes\u001b[39m(a,b,c,delta):\n\u001b[0;32m      3\u001b[0m     \u001b[39mif\u001b[39;00m(delta(\u001b[39m0\u001b[39m)):\n",
      "\u001b[1;31mModuleNotFoundError\u001b[0m: No module named 'numpy'"
     ]
    }
   ],
   "source": [
    "import numpy as np\n",
    "def calcular_raizes(a,b,c,delta):\n",
    "    if(delta(0)):\n",
    "        resultado = 'A equação não possui apenas a raiz: {x}'\n",
    "        \n",
    "    else:\n",
    "        x1=(-b-np.sqrt(delta))/(2*a)\n",
    "        x2=(-b+np.sqrt(delta))/2(2*a)\n",
    "        resultado = f'A equação possui as raízes: {x1}.{x2}'\n",
    "        return resultado"
   ]
  },
  {
   "cell_type": "code",
   "execution_count": 59,
   "metadata": {},
   "outputs": [
    {
     "ename": "NameError",
     "evalue": "name 'calcular_raizes' is not defined",
     "output_type": "error",
     "traceback": [
      "\u001b[1;31m---------------------------------------------------------------------------\u001b[0m",
      "\u001b[1;31mNameError\u001b[0m                                 Traceback (most recent call last)",
      "Cell \u001b[1;32mIn[59], line 7\u001b[0m\n\u001b[0;32m      3\u001b[0m c\u001b[39m=\u001b[39mentrada_dados()\n\u001b[0;32m      5\u001b[0m delta\u001b[39m=\u001b[39mcalc_delta(a,b,c)\n\u001b[1;32m----> 7\u001b[0m resultado\u001b[39m=\u001b[39mcalcular_raizes(a,b,c,delta)\n\u001b[0;32m      8\u001b[0m \u001b[39mprint\u001b[39m(resultado)\n",
      "\u001b[1;31mNameError\u001b[0m: name 'calcular_raizes' is not defined"
     ]
    }
   ],
   "source": [
    "a=entrada_dados()\n",
    "b=entrada_dados()\n",
    "c=entrada_dados()\n",
    "\n",
    "delta=calc_delta(a,b,c)\n",
    "\n",
    "resultado=calcular_raizes(a,b,c,delta)\n",
    "print(resultado)\n"
   ]
  },
  {
   "attachments": {},
   "cell_type": "markdown",
   "metadata": {},
   "source": [
    "IMPLEMENTAR UMA SOLUÇÃO EM PYTHON PARA VISUALIZAR DADOS DE VENDAS DE PRODUTOS EM GRÁFICO DE BARRAS.\n",
    "EX:UTILIZE OS DADOS:\n",
    "X=[\"A\",\"B\",\"C\",\"D\"]\n",
    "Y=[3,8,1,10]\n"
   ]
  },
  {
   "cell_type": "code",
   "execution_count": 68,
   "metadata": {},
   "outputs": [
    {
     "ename": "ModuleNotFoundError",
     "evalue": "No module named 'matplotlib'",
     "output_type": "error",
     "traceback": [
      "\u001b[1;31m---------------------------------------------------------------------------\u001b[0m",
      "\u001b[1;31mModuleNotFoundError\u001b[0m                       Traceback (most recent call last)",
      "Cell \u001b[1;32mIn[68], line 1\u001b[0m\n\u001b[1;32m----> 1\u001b[0m \u001b[39mimport\u001b[39;00m \u001b[39mmatplotlib\u001b[39;00m\u001b[39m.\u001b[39;00m\u001b[39mpyplot\u001b[39;00m \u001b[39mas\u001b[39;00m \u001b[39mplt\u001b[39;00m\n\u001b[0;32m      2\u001b[0m \u001b[39mimport\u001b[39;00m \u001b[39mnumpy\u001b[39;00m \u001b[39mas\u001b[39;00m \u001b[39mnp\u001b[39;00m\n\u001b[0;32m      4\u001b[0m x\u001b[39m=\u001b[39m np\u001b[39m.\u001b[39marray([\u001b[39m\"\u001b[39m\u001b[39mA\u001b[39m\u001b[39m\"\u001b[39m,\u001b[39m\"\u001b[39m\u001b[39mB\u001b[39m\u001b[39m\"\u001b[39m,\u001b[39m\"\u001b[39m\u001b[39mC\u001b[39m\u001b[39m\"\u001b[39m,\u001b[39m\"\u001b[39m\u001b[39mD\u001b[39m\u001b[39m\"\u001b[39m])\n",
      "\u001b[1;31mModuleNotFoundError\u001b[0m: No module named 'matplotlib'"
     ]
    }
   ],
   "source": [
    "\n",
    "import matplotlib.pyplot as plt\n",
    "import numpy as np\n",
    "\n",
    "x= np.array([\"A\",\"B\",\"C\",\"D\"])\n",
    "y= np.array([3,8,1,10])\n",
    "plt.bar(x,y)\n",
    "plt.show"
   ]
  },
  {
   "cell_type": "code",
   "execution_count": null,
   "metadata": {},
   "outputs": [],
   "source": []
  }
 ],
 "metadata": {
  "kernelspec": {
   "display_name": "Python 3",
   "language": "python",
   "name": "python3"
  },
  "language_info": {
   "codemirror_mode": {
    "name": "ipython",
    "version": 3
   },
   "file_extension": ".py",
   "mimetype": "text/x-python",
   "name": "python",
   "nbconvert_exporter": "python",
   "pygments_lexer": "ipython3",
   "version": "3.11.3"
  },
  "orig_nbformat": 4
 },
 "nbformat": 4,
 "nbformat_minor": 2
}
